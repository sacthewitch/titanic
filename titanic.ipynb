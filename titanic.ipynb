{
 "cells": [
  {
   "cell_type": "markdown",
   "id": "c383c9c3",
   "metadata": {},
   "source": [
    "# Predictive Analysis, Supervised Learning – Titanic\n",
    "\n",
    "classifying a large set of data based on a set of pre-classified samples\n",
    "\n",
    "\n"
   ]
  },
  {
   "cell_type": "code",
   "execution_count": 1,
   "id": "cc5bab50",
   "metadata": {},
   "outputs": [],
   "source": [
    "import pandas as pd\n",
    "import numpy as np\n",
    "import seaborn as sns\n",
    "from matplotlib import pyplot as plt\n",
    "from matplotlib import style\n",
    "\n",
    "from sklearn import linear_model\n",
    "from sklearn.linear_model import LogisticRegression\n",
    "from sklearn.ensemble import RandomForestClassifier\n",
    "from sklearn.tree import DecisionTreeClassifier\n",
    "from sklearn.neighbors import KNeighborsClassifier\n",
    "from sklearn.linear_model import Perceptron\n",
    "from sklearn.linear_model import SGDClassifier\n",
    "from sklearn.svm import SVC, LinearSVC\n",
    "from sklearn.naive_bayes import GaussianNB\n",
    "\n",
    "# read txt files as pandas df\n",
    "titanic_train = pd.read_csv(\"titanic_train.csv\")\n",
    "titanic_test = pd.read_csv(\"titanic_test.csv\")\n",
    "\n"
   ]
  },
  {
   "cell_type": "markdown",
   "id": "b29b56d9",
   "metadata": {},
   "source": [
    "# EDA"
   ]
  },
  {
   "cell_type": "code",
   "execution_count": 2,
   "id": "87551421",
   "metadata": {},
   "outputs": [
    {
     "data": {
      "text/html": [
       "<div>\n",
       "<style scoped>\n",
       "    .dataframe tbody tr th:only-of-type {\n",
       "        vertical-align: middle;\n",
       "    }\n",
       "\n",
       "    .dataframe tbody tr th {\n",
       "        vertical-align: top;\n",
       "    }\n",
       "\n",
       "    .dataframe thead th {\n",
       "        text-align: right;\n",
       "    }\n",
       "</style>\n",
       "<table border=\"1\" class=\"dataframe\">\n",
       "  <thead>\n",
       "    <tr style=\"text-align: right;\">\n",
       "      <th></th>\n",
       "      <th>PassengerId</th>\n",
       "      <th>Survived</th>\n",
       "      <th>Pclass</th>\n",
       "      <th>Name</th>\n",
       "      <th>Sex</th>\n",
       "      <th>Age</th>\n",
       "      <th>SibSp</th>\n",
       "      <th>Parch</th>\n",
       "      <th>Ticket</th>\n",
       "      <th>Fare</th>\n",
       "      <th>Cabin</th>\n",
       "      <th>Embarked</th>\n",
       "    </tr>\n",
       "  </thead>\n",
       "  <tbody>\n",
       "    <tr>\n",
       "      <th>0</th>\n",
       "      <td>1</td>\n",
       "      <td>0</td>\n",
       "      <td>3</td>\n",
       "      <td>Braund, Mr. Owen Harris</td>\n",
       "      <td>male</td>\n",
       "      <td>22.0</td>\n",
       "      <td>1</td>\n",
       "      <td>0</td>\n",
       "      <td>A/5 21171</td>\n",
       "      <td>7.2500</td>\n",
       "      <td>NaN</td>\n",
       "      <td>S</td>\n",
       "    </tr>\n",
       "    <tr>\n",
       "      <th>1</th>\n",
       "      <td>2</td>\n",
       "      <td>1</td>\n",
       "      <td>1</td>\n",
       "      <td>Cumings, Mrs. John Bradley (Florence Briggs Th...</td>\n",
       "      <td>female</td>\n",
       "      <td>38.0</td>\n",
       "      <td>1</td>\n",
       "      <td>0</td>\n",
       "      <td>PC 17599</td>\n",
       "      <td>71.2833</td>\n",
       "      <td>C85</td>\n",
       "      <td>C</td>\n",
       "    </tr>\n",
       "    <tr>\n",
       "      <th>2</th>\n",
       "      <td>3</td>\n",
       "      <td>1</td>\n",
       "      <td>3</td>\n",
       "      <td>Heikkinen, Miss. Laina</td>\n",
       "      <td>female</td>\n",
       "      <td>26.0</td>\n",
       "      <td>0</td>\n",
       "      <td>0</td>\n",
       "      <td>STON/O2. 3101282</td>\n",
       "      <td>7.9250</td>\n",
       "      <td>NaN</td>\n",
       "      <td>S</td>\n",
       "    </tr>\n",
       "    <tr>\n",
       "      <th>3</th>\n",
       "      <td>4</td>\n",
       "      <td>1</td>\n",
       "      <td>1</td>\n",
       "      <td>Futrelle, Mrs. Jacques Heath (Lily May Peel)</td>\n",
       "      <td>female</td>\n",
       "      <td>35.0</td>\n",
       "      <td>1</td>\n",
       "      <td>0</td>\n",
       "      <td>113803</td>\n",
       "      <td>53.1000</td>\n",
       "      <td>C123</td>\n",
       "      <td>S</td>\n",
       "    </tr>\n",
       "    <tr>\n",
       "      <th>4</th>\n",
       "      <td>5</td>\n",
       "      <td>0</td>\n",
       "      <td>3</td>\n",
       "      <td>Allen, Mr. William Henry</td>\n",
       "      <td>male</td>\n",
       "      <td>35.0</td>\n",
       "      <td>0</td>\n",
       "      <td>0</td>\n",
       "      <td>373450</td>\n",
       "      <td>8.0500</td>\n",
       "      <td>NaN</td>\n",
       "      <td>S</td>\n",
       "    </tr>\n",
       "  </tbody>\n",
       "</table>\n",
       "</div>"
      ],
      "text/plain": [
       "   PassengerId  Survived  Pclass  \\\n",
       "0            1         0       3   \n",
       "1            2         1       1   \n",
       "2            3         1       3   \n",
       "3            4         1       1   \n",
       "4            5         0       3   \n",
       "\n",
       "                                                Name     Sex   Age  SibSp  \\\n",
       "0                            Braund, Mr. Owen Harris    male  22.0      1   \n",
       "1  Cumings, Mrs. John Bradley (Florence Briggs Th...  female  38.0      1   \n",
       "2                             Heikkinen, Miss. Laina  female  26.0      0   \n",
       "3       Futrelle, Mrs. Jacques Heath (Lily May Peel)  female  35.0      1   \n",
       "4                           Allen, Mr. William Henry    male  35.0      0   \n",
       "\n",
       "   Parch            Ticket     Fare Cabin Embarked  \n",
       "0      0         A/5 21171   7.2500   NaN        S  \n",
       "1      0          PC 17599  71.2833   C85        C  \n",
       "2      0  STON/O2. 3101282   7.9250   NaN        S  \n",
       "3      0            113803  53.1000  C123        S  \n",
       "4      0            373450   8.0500   NaN        S  "
      ]
     },
     "execution_count": 2,
     "metadata": {},
     "output_type": "execute_result"
    }
   ],
   "source": [
    "# display train df\n",
    "titanic_train.head()"
   ]
  },
  {
   "cell_type": "markdown",
   "id": "c1c134c4",
   "metadata": {},
   "source": [
    "### Data Description \n",
    "\n",
    "-  Survived: 0 = Died, 1 = Survived\n",
    "\n",
    "\n",
    "-  Pclass: A proxy for Socio-Economic Status (SES). \n",
    "        1st = Upper\n",
    "        2nd = Middle\n",
    "        3rd = Lower\n",
    "        \n",
    "-  Age: Age in years. It is fractional if less than 1. If the age is estimated, it is in the form of xx.5. \n",
    "\n",
    "\n",
    "-  SibSp: The number of siblings/spouses aboard the Titanic. The dataset defines family relations in this way:\n",
    "        Sibling = brother, sister, stepbrother, stepsister\n",
    "        Spouse = husband, wife (mistresses and fiancés were ignored)\n",
    "        \n",
    "-  Parch: The number of parents/children aboard the Titanic. The dataset defines family relations in this way:\n",
    "        Parent = mother, father\n",
    "        Child = daughter, son, stepdaughter, stepson\n",
    "        Some children travelled only with a nanny, therefore Parch = 0 for them.\n",
    "        \n",
    "-  Embarked: The port of embarkation:\n",
    "        C = Cherbourg \n",
    "        Q = Queenstown \n",
    "        S =Southampton\n",
    "\n",
    "-  Ticket: The ticket number.\n",
    "\n",
    "\n",
    "-  Fare: The passenger fare.\n",
    "\n",
    "\n",
    "-  Cabin: The cabin number."
   ]
  },
  {
   "cell_type": "code",
   "execution_count": 3,
   "id": "c304079f",
   "metadata": {},
   "outputs": [
    {
     "data": {
      "text/html": [
       "<div>\n",
       "<style scoped>\n",
       "    .dataframe tbody tr th:only-of-type {\n",
       "        vertical-align: middle;\n",
       "    }\n",
       "\n",
       "    .dataframe tbody tr th {\n",
       "        vertical-align: top;\n",
       "    }\n",
       "\n",
       "    .dataframe thead th {\n",
       "        text-align: right;\n",
       "    }\n",
       "</style>\n",
       "<table border=\"1\" class=\"dataframe\">\n",
       "  <thead>\n",
       "    <tr style=\"text-align: right;\">\n",
       "      <th></th>\n",
       "      <th>PassengerId</th>\n",
       "      <th>Survived</th>\n",
       "      <th>Pclass</th>\n",
       "      <th>Age</th>\n",
       "      <th>SibSp</th>\n",
       "      <th>Parch</th>\n",
       "      <th>Fare</th>\n",
       "    </tr>\n",
       "  </thead>\n",
       "  <tbody>\n",
       "    <tr>\n",
       "      <th>count</th>\n",
       "      <td>891.000000</td>\n",
       "      <td>891.000000</td>\n",
       "      <td>891.000000</td>\n",
       "      <td>714.000000</td>\n",
       "      <td>891.000000</td>\n",
       "      <td>891.000000</td>\n",
       "      <td>891.000000</td>\n",
       "    </tr>\n",
       "    <tr>\n",
       "      <th>mean</th>\n",
       "      <td>446.000000</td>\n",
       "      <td>0.383838</td>\n",
       "      <td>2.308642</td>\n",
       "      <td>29.699118</td>\n",
       "      <td>0.523008</td>\n",
       "      <td>0.381594</td>\n",
       "      <td>32.204208</td>\n",
       "    </tr>\n",
       "    <tr>\n",
       "      <th>std</th>\n",
       "      <td>257.353842</td>\n",
       "      <td>0.486592</td>\n",
       "      <td>0.836071</td>\n",
       "      <td>14.526497</td>\n",
       "      <td>1.102743</td>\n",
       "      <td>0.806057</td>\n",
       "      <td>49.693429</td>\n",
       "    </tr>\n",
       "    <tr>\n",
       "      <th>min</th>\n",
       "      <td>1.000000</td>\n",
       "      <td>0.000000</td>\n",
       "      <td>1.000000</td>\n",
       "      <td>0.420000</td>\n",
       "      <td>0.000000</td>\n",
       "      <td>0.000000</td>\n",
       "      <td>0.000000</td>\n",
       "    </tr>\n",
       "    <tr>\n",
       "      <th>25%</th>\n",
       "      <td>223.500000</td>\n",
       "      <td>0.000000</td>\n",
       "      <td>2.000000</td>\n",
       "      <td>20.125000</td>\n",
       "      <td>0.000000</td>\n",
       "      <td>0.000000</td>\n",
       "      <td>7.910400</td>\n",
       "    </tr>\n",
       "    <tr>\n",
       "      <th>50%</th>\n",
       "      <td>446.000000</td>\n",
       "      <td>0.000000</td>\n",
       "      <td>3.000000</td>\n",
       "      <td>28.000000</td>\n",
       "      <td>0.000000</td>\n",
       "      <td>0.000000</td>\n",
       "      <td>14.454200</td>\n",
       "    </tr>\n",
       "    <tr>\n",
       "      <th>75%</th>\n",
       "      <td>668.500000</td>\n",
       "      <td>1.000000</td>\n",
       "      <td>3.000000</td>\n",
       "      <td>38.000000</td>\n",
       "      <td>1.000000</td>\n",
       "      <td>0.000000</td>\n",
       "      <td>31.000000</td>\n",
       "    </tr>\n",
       "    <tr>\n",
       "      <th>max</th>\n",
       "      <td>891.000000</td>\n",
       "      <td>1.000000</td>\n",
       "      <td>3.000000</td>\n",
       "      <td>80.000000</td>\n",
       "      <td>8.000000</td>\n",
       "      <td>6.000000</td>\n",
       "      <td>512.329200</td>\n",
       "    </tr>\n",
       "  </tbody>\n",
       "</table>\n",
       "</div>"
      ],
      "text/plain": [
       "       PassengerId    Survived      Pclass         Age       SibSp  \\\n",
       "count   891.000000  891.000000  891.000000  714.000000  891.000000   \n",
       "mean    446.000000    0.383838    2.308642   29.699118    0.523008   \n",
       "std     257.353842    0.486592    0.836071   14.526497    1.102743   \n",
       "min       1.000000    0.000000    1.000000    0.420000    0.000000   \n",
       "25%     223.500000    0.000000    2.000000   20.125000    0.000000   \n",
       "50%     446.000000    0.000000    3.000000   28.000000    0.000000   \n",
       "75%     668.500000    1.000000    3.000000   38.000000    1.000000   \n",
       "max     891.000000    1.000000    3.000000   80.000000    8.000000   \n",
       "\n",
       "            Parch        Fare  \n",
       "count  891.000000  891.000000  \n",
       "mean     0.381594   32.204208  \n",
       "std      0.806057   49.693429  \n",
       "min      0.000000    0.000000  \n",
       "25%      0.000000    7.910400  \n",
       "50%      0.000000   14.454200  \n",
       "75%      0.000000   31.000000  \n",
       "max      6.000000  512.329200  "
      ]
     },
     "execution_count": 3,
     "metadata": {},
     "output_type": "execute_result"
    }
   ],
   "source": [
    "# descriptive stat\n",
    "titanic_train.describe()"
   ]
  },
  {
   "cell_type": "markdown",
   "id": "ad6f187f",
   "metadata": {},
   "source": [
    "We can see that:\n",
    "\n",
    "    - 38% out of the training-set survived the Titanic.\n",
    "    - features 'Age', 'Cabin', and 'Embarked' have some missing values.\n",
    "    - 'Name', 'Sex', 'Ticket', 'Cabin' and 'Embarked' have data type object."
   ]
  },
  {
   "cell_type": "code",
   "execution_count": 4,
   "id": "9f8ee200",
   "metadata": {},
   "outputs": [
    {
     "name": "stdout",
     "output_type": "stream",
     "text": [
      "<class 'pandas.core.frame.DataFrame'>\n",
      "RangeIndex: 891 entries, 0 to 890\n",
      "Data columns (total 12 columns):\n",
      " #   Column       Non-Null Count  Dtype  \n",
      "---  ------       --------------  -----  \n",
      " 0   PassengerId  891 non-null    int64  \n",
      " 1   Survived     891 non-null    int64  \n",
      " 2   Pclass       891 non-null    int64  \n",
      " 3   Name         891 non-null    object \n",
      " 4   Sex          891 non-null    object \n",
      " 5   Age          714 non-null    float64\n",
      " 6   SibSp        891 non-null    int64  \n",
      " 7   Parch        891 non-null    int64  \n",
      " 8   Ticket       891 non-null    object \n",
      " 9   Fare         891 non-null    float64\n",
      " 10  Cabin        204 non-null    object \n",
      " 11  Embarked     889 non-null    object \n",
      "dtypes: float64(2), int64(5), object(5)\n",
      "memory usage: 83.7+ KB\n"
     ]
    }
   ],
   "source": [
    "titanic_train.info()"
   ]
  },
  {
   "cell_type": "markdown",
   "id": "db2ed249",
   "metadata": {},
   "source": [
    "In order to machine learning algorithms to run, we need to convert non numerical features into numeric. And treating for missing values is required. Also, we need to scale the data that is about the same."
   ]
  },
  {
   "cell_type": "markdown",
   "id": "4b1d2c0f",
   "metadata": {},
   "source": [
    "Looking at the features even without an analysis, we can see that features like, 'PassengerID', 'Name' and 'Ticket' won't have any significance towards the survival."
   ]
  },
  {
   "cell_type": "markdown",
   "id": "608dd1d1",
   "metadata": {},
   "source": [
    "### Corelation Analysis"
   ]
  },
  {
   "cell_type": "markdown",
   "id": "74b11eeb",
   "metadata": {},
   "source": [
    "1. Pclass"
   ]
  },
  {
   "cell_type": "code",
   "execution_count": 5,
   "id": "9e9c9ae3",
   "metadata": {},
   "outputs": [
    {
     "data": {
      "text/plain": [
       "<AxesSubplot:xlabel='Pclass', ylabel='Survived'>"
      ]
     },
     "execution_count": 5,
     "metadata": {},
     "output_type": "execute_result"
    },
    {
     "data": {
      "image/png": "[encoded data removed]",
      "text/plain": [
       "<Figure size 432x288 with 1 Axes>"
      ]
     },
     "metadata": {
      "needs_background": "light"
     },
     "output_type": "display_data"
    }
   ],
   "source": [
    "sns.barplot(x = 'Pclass', y = 'Survived', data = titanic_train)"
   ]
  },
  {
   "cell_type": "markdown",
   "id": "a642339b",
   "metadata": {},
   "source": [
    "We can see that Pclass feature is highly corealted with the survival rate. If the passenger was in class 1 he/she has high chance of survival unlike passengers in class 3."
   ]
  },
  {
   "cell_type": "markdown",
   "id": "5decb4f4",
   "metadata": {},
   "source": [
    "2. Sex and Age\n"
   ]
  },
  {
   "cell_type": "code",
   "execution_count": 6,
   "id": "0e3873a8",
   "metadata": {},
   "outputs": [
    {
     "name": "stderr",
     "output_type": "stream",
     "text": [
      "/opt/anaconda3/lib/python3.9/site-packages/seaborn/distributions.py:2619: FutureWarning: `distplot` is a deprecated function and will be removed in a future version. Please adapt your code to use either `displot` (a figure-level function with similar flexibility) or `histplot` (an axes-level function for histograms).\n",
      "  warnings.warn(msg, FutureWarning)\n"
     ]
    },
    {
     "data": {
      "image/png": "[encoded data removed]",
      "text/plain": [
       "<Figure size 1080x360 with 2 Axes>"
      ]
     },
     "metadata": {
      "needs_background": "light"
     },
     "output_type": "display_data"
    }
   ],
   "source": [
    "survived = 'Survived'\n",
    "died = 'Died'\n",
    "\n",
    "fig, axes = plt.subplots(nrows=1, ncols=2,figsize=(15, 5))\n",
    "\n",
    "female = titanic_train[titanic_train['Sex'] == 'female']\n",
    "ax = sns.distplot(female[female['Survived'] == 1].Age.dropna(), \n",
    "                  bins = 20, label = survived, ax = axes[0], kde = False)\n",
    "ax = sns.distplot(female[female['Survived'] == 0].Age.dropna() , \n",
    "                  bins = 20, label = died, ax = axes[0], kde = False)\n",
    "ax.legend()\n",
    "ax.set_title('Female')\n",
    "\n",
    "\n",
    "male = titanic_train[titanic_train['Sex'] == 'male']\n",
    "ax = sns.distplot(male[male['Survived'] == 1].Age.dropna(), \n",
    "                  bins = 20, label = survived, ax = axes[1], kde = False)\n",
    "ax = sns.distplot(male[male['Survived'] == 0].Age.dropna() , \n",
    "                  bins = 20, label = died, ax = axes[1], kde = False)\n",
    "ax.legend()\n",
    "_ = ax.set_title('Male')\n"
   ]
  },
  {
   "cell_type": "markdown",
   "id": "f1f0b66a",
   "metadata": {},
   "source": [
    "If the female passenger is between the 13 to 41 years of age, there is higher chance of survival.\n",
    "\n",
    "If the passenger is male and in age between 16 to 36, there's a high chance of survival."
   ]
  },
  {
   "cell_type": "markdown",
   "id": "4c86c9bc",
   "metadata": {},
   "source": [
    "3. SibSp and Parch"
   ]
  },
  {
   "cell_type": "code",
   "execution_count": 7,
   "id": "d29d1a8f",
   "metadata": {},
   "outputs": [
    {
     "name": "stderr",
     "output_type": "stream",
     "text": [
      "/opt/anaconda3/lib/python3.9/site-packages/seaborn/categorical.py:3717: UserWarning: The `factorplot` function has been renamed to `catplot`. The original name will be removed in a future release. Please update your code. Note that the default `kind` in `factorplot` (`'point'`) has changed `'strip'` in `catplot`.\n",
      "  warnings.warn(msg)\n",
      "/opt/anaconda3/lib/python3.9/site-packages/seaborn/_decorators.py:36: FutureWarning: Pass the following variables as keyword args: x, y. From version 0.12, the only valid positional argument will be `data`, and passing other arguments without an explicit keyword will result in an error or misinterpretation.\n",
      "  warnings.warn(\n",
      "/opt/anaconda3/lib/python3.9/site-packages/seaborn/categorical.py:3717: UserWarning: The `factorplot` function has been renamed to `catplot`. The original name will be removed in a future release. Please update your code. Note that the default `kind` in `factorplot` (`'point'`) has changed `'strip'` in `catplot`.\n",
      "  warnings.warn(msg)\n",
      "/opt/anaconda3/lib/python3.9/site-packages/seaborn/_decorators.py:36: FutureWarning: Pass the following variables as keyword args: x, y. From version 0.12, the only valid positional argument will be `data`, and passing other arguments without an explicit keyword will result in an error or misinterpretation.\n",
      "  warnings.warn(\n"
     ]
    },
    {
     "data": {
      "text/plain": [
       "Text(0.5, 0.98, 'Parents/ Children aboard')"
      ]
     },
     "execution_count": 7,
     "metadata": {},
     "output_type": "execute_result"
    },
    {
     "data": {
      "image/png": "[encoded data removed]",
      "text/plain": [
       "<Figure size 900x360 with 1 Axes>"
      ]
     },
     "metadata": {
      "needs_background": "light"
     },
     "output_type": "display_data"
    },
    {
     "data": {
      "image/png": "[encoded data removed]",
      "text/plain": [
       "<Figure size 900x360 with 1 Axes>"
      ]
     },
     "metadata": {
      "needs_background": "light"
     },
     "output_type": "display_data"
    }
   ],
   "source": [
    "axe1 = sns.factorplot('SibSp','Survived', data = titanic_train, \n",
    "                      aspect = 2.5, )\n",
    "axe1.fig.suptitle('Siblings/ Spouses aboard', fontsize= 16)\n",
    "\n",
    "axe2 = sns.factorplot('Parch','Survived', data = titanic_train, \n",
    "                      aspect = 2.5, )\n",
    "axe2.fig.suptitle('Parents/ Children aboard', fontsize= 16)"
   ]
  },
  {
   "cell_type": "markdown",
   "id": "588287b0",
   "metadata": {},
   "source": [
    "If the passenger was with the spouse or with 1 sibling, there's high chance of survival. Also, if the passenger had the 3 sum of parents and/or childresn, there's a high chance of survival."
   ]
  },
  {
   "cell_type": "markdown",
   "id": "5b6bc8bf",
   "metadata": {},
   "source": [
    "4. Embarked and Sex"
   ]
  },
  {
   "cell_type": "code",
   "execution_count": 8,
   "id": "2fa2cf5d",
   "metadata": {},
   "outputs": [
    {
     "data": {
      "text/plain": [
       "<seaborn.axisgrid.FacetGrid at 0x7f7d18f7ad60>"
      ]
     },
     "execution_count": 8,
     "metadata": {},
     "output_type": "execute_result"
    },
    {
     "data": {
      "image/png": "[encoded data removed]",
      "text/plain": [
       "<Figure size 502.5x432 with 1 Axes>"
      ]
     },
     "metadata": {
      "needs_background": "light"
     },
     "output_type": "display_data"
    }
   ],
   "source": [
    "axes = sns.catplot(\n",
    "    data = titanic_train, kind = \"bar\",\n",
    "    x = \"Embarked\", y = \"Survived\", hue=\"Sex\", \n",
    "    palette = \"dark\", alpha = .6, height = 6)\n",
    "axes.despine(left = True)\n"
   ]
  },
  {
   "cell_type": "markdown",
   "id": "78e741e7",
   "metadata": {},
   "source": [
    "It seems the women embarked on port C has the highest rate of survival. Same applies to the men at port C. Women from Q are to survive than women from port S. But for the men, it's the opposite."
   ]
  },
  {
   "cell_type": "markdown",
   "id": "c870885a",
   "metadata": {},
   "source": [
    "5. Fare and Pclass"
   ]
  },
  {
   "cell_type": "code",
   "execution_count": 9,
   "id": "016d2e1d",
   "metadata": {},
   "outputs": [
    {
     "data": {
      "text/plain": [
       "<AxesSubplot:xlabel='Fare', ylabel='Survived'>"
      ]
     },
     "execution_count": 9,
     "metadata": {},
     "output_type": "execute_result"
    },
    {
     "data": {
      "image/png": "[encoded data removed]",
      "text/plain": [
       "<Figure size 432x288 with 1 Axes>"
      ]
     },
     "metadata": {
      "needs_background": "light"
     },
     "output_type": "display_data"
    }
   ],
   "source": [
    "sns.scatterplot(x = \"Fare\", y = \"Survived\", hue = \"Pclass\",\n",
    "            sizes = (40, 400), alpha = .5, palette = \"muted\", \n",
    "             data = titanic_train)"
   ]
  },
  {
   "cell_type": "markdown",
   "id": "a7a72bd0",
   "metadata": {},
   "source": [
    "Fare does not show the relevant significance towards distinguishing survival or not."
   ]
  },
  {
   "cell_type": "markdown",
   "id": "73619188",
   "metadata": {},
   "source": [
    "### Treating Missing Values"
   ]
  },
  {
   "cell_type": "code",
   "execution_count": 10,
   "id": "aa10fa08",
   "metadata": {},
   "outputs": [
    {
     "data": {
      "text/plain": [
       "0"
      ]
     },
     "execution_count": 10,
     "metadata": {},
     "output_type": "execute_result"
    }
   ],
   "source": [
    "# Age\n",
    "\n",
    "titanic = [titanic_train, titanic_test]\n",
    "\n",
    "for dataset in titanic:\n",
    "    mean = titanic_train[\"Age\"].mean()\n",
    "    std = titanic_test[\"Age\"].std()\n",
    "    is_null = dataset[\"Age\"].isnull().sum()\n",
    "    \n",
    "    # compute random numbers between the mean, std and is_null\n",
    "    age_rand = np.random.randint(mean - std, mean + std, size = is_null)\n",
    "    \n",
    "    # fill NaN values in Age column with random values generated\n",
    "    age_c = dataset[\"Age\"].copy()\n",
    "    age_c[np.isnan(age_c)] = age_rand\n",
    "    dataset[\"Age\"] = age_c\n",
    "    dataset[\"Age\"] = titanic_train[\"Age\"].astype(int)\n",
    "    \n",
    "titanic_train[\"Age\"].isnull().sum()\n"
   ]
  },
  {
   "cell_type": "code",
   "execution_count": 11,
   "id": "d6be6831",
   "metadata": {},
   "outputs": [
    {
     "data": {
      "text/plain": [
       "687"
      ]
     },
     "execution_count": 11,
     "metadata": {},
     "output_type": "execute_result"
    }
   ],
   "source": [
    "# Cabin\n",
    "\n",
    "titanic_train[\"Cabin\"].isnull().sum()"
   ]
  },
  {
   "cell_type": "markdown",
   "id": "2f18434b",
   "metadata": {},
   "source": [
    "Since Cabin feature has huge missing data, I decided to drop it from both training and test datasets."
   ]
  },
  {
   "cell_type": "code",
   "execution_count": 12,
   "id": "f2427ead",
   "metadata": {},
   "outputs": [],
   "source": [
    "# drop the cabin feature\n",
    "titanic_train = titanic_train.drop(['Cabin'], axis = 1)\n",
    "titanic_test = titanic_test.drop(['Cabin'], axis = 1)\n"
   ]
  },
  {
   "cell_type": "code",
   "execution_count": 13,
   "id": "15b12ba6",
   "metadata": {},
   "outputs": [
    {
     "data": {
      "text/plain": [
       "2"
      ]
     },
     "execution_count": 13,
     "metadata": {},
     "output_type": "execute_result"
    }
   ],
   "source": [
    "# Embarked\n",
    "\n",
    "titanic_train[\"Embarked\"].isnull().sum()"
   ]
  },
  {
   "cell_type": "markdown",
   "id": "fdc8d1aa",
   "metadata": {},
   "source": [
    "Embaked has only two missing values. Therefore we can add most common value"
   ]
  },
  {
   "cell_type": "code",
   "execution_count": 14,
   "id": "c46c821d",
   "metadata": {},
   "outputs": [
    {
     "data": {
      "text/plain": [
       "count     889\n",
       "unique      3\n",
       "top         S\n",
       "freq      644\n",
       "Name: Embarked, dtype: object"
      ]
     },
     "execution_count": 14,
     "metadata": {},
     "output_type": "execute_result"
    }
   ],
   "source": [
    "titanic_train['Embarked'].describe()\n"
   ]
  },
  {
   "cell_type": "code",
   "execution_count": 15,
   "id": "efbce551",
   "metadata": {},
   "outputs": [],
   "source": [
    "top = 'S'\n",
    "\n",
    "titanic = [titanic_train, titanic_test]\n",
    "\n",
    "for dataset in titanic:\n",
    "    dataset['Embarked'] = dataset['Embarked'].fillna(top)"
   ]
  },
  {
   "cell_type": "code",
   "execution_count": 16,
   "id": "f5cb66e8",
   "metadata": {},
   "outputs": [],
   "source": [
    "# dropping features that aren't significant towrds the survival\n",
    "\n",
    "# PassengerID\n",
    "titanic_train = titanic_train.drop(['PassengerId'], axis=1)\n",
    "\n",
    "# Name\n",
    "titanic_train = titanic_train.drop(['Name'], axis=1)\n",
    "titanic_test = titanic_test.drop(['Name'], axis=1)\n",
    "\n",
    "# Ticket\n",
    "titanic_train = titanic_train.drop(['Ticket'], axis=1)\n",
    "titanic_test = titanic_test.drop(['Ticket'], axis=1)\n",
    "\n",
    "# Fare\n",
    "titanic_train = titanic_train.drop(['Fare'], axis=1)\n",
    "titanic_test = titanic_test.drop(['Fare'], axis=1)"
   ]
  },
  {
   "cell_type": "markdown",
   "id": "7e05d08f",
   "metadata": {},
   "source": [
    "### Type Conversion"
   ]
  },
  {
   "cell_type": "code",
   "execution_count": 17,
   "id": "df9e0a15",
   "metadata": {},
   "outputs": [],
   "source": [
    "# Sex\n",
    "sex = {\"male\": 0, \"female\": 1}\n",
    "\n",
    "titanic = [titanic_train, titanic_test]\n",
    "\n",
    "for dataset in titanic:\n",
    "    dataset['Sex'] = dataset['Sex'].map(sex)\n"
   ]
  },
  {
   "cell_type": "code",
   "execution_count": 18,
   "id": "9b9cc6d4",
   "metadata": {},
   "outputs": [],
   "source": [
    "# Embarked\n",
    "port_no = {\"S\": 0, \"C\": 1, \"Q\": 2}\n",
    "\n",
    "titanic = [titanic_train, titanic_test]\n",
    "\n",
    "for dataset in titanic:\n",
    "    dataset['Embarked'] = dataset['Embarked'].map(port_no)"
   ]
  },
  {
   "cell_type": "code",
   "execution_count": 19,
   "id": "d9e62fdb",
   "metadata": {},
   "outputs": [
    {
     "data": {
      "text/html": [
       "<div>\n",
       "<style scoped>\n",
       "    .dataframe tbody tr th:only-of-type {\n",
       "        vertical-align: middle;\n",
       "    }\n",
       "\n",
       "    .dataframe tbody tr th {\n",
       "        vertical-align: top;\n",
       "    }\n",
       "\n",
       "    .dataframe thead th {\n",
       "        text-align: right;\n",
       "    }\n",
       "</style>\n",
       "<table border=\"1\" class=\"dataframe\">\n",
       "  <thead>\n",
       "    <tr style=\"text-align: right;\">\n",
       "      <th></th>\n",
       "      <th>Survived</th>\n",
       "      <th>Pclass</th>\n",
       "      <th>Sex</th>\n",
       "      <th>Age</th>\n",
       "      <th>SibSp</th>\n",
       "      <th>Parch</th>\n",
       "      <th>Embarked</th>\n",
       "    </tr>\n",
       "  </thead>\n",
       "  <tbody>\n",
       "    <tr>\n",
       "      <th>0</th>\n",
       "      <td>0</td>\n",
       "      <td>3</td>\n",
       "      <td>0</td>\n",
       "      <td>22</td>\n",
       "      <td>1</td>\n",
       "      <td>0</td>\n",
       "      <td>0</td>\n",
       "    </tr>\n",
       "    <tr>\n",
       "      <th>1</th>\n",
       "      <td>1</td>\n",
       "      <td>1</td>\n",
       "      <td>1</td>\n",
       "      <td>38</td>\n",
       "      <td>1</td>\n",
       "      <td>0</td>\n",
       "      <td>1</td>\n",
       "    </tr>\n",
       "    <tr>\n",
       "      <th>2</th>\n",
       "      <td>1</td>\n",
       "      <td>3</td>\n",
       "      <td>1</td>\n",
       "      <td>26</td>\n",
       "      <td>0</td>\n",
       "      <td>0</td>\n",
       "      <td>0</td>\n",
       "    </tr>\n",
       "    <tr>\n",
       "      <th>3</th>\n",
       "      <td>1</td>\n",
       "      <td>1</td>\n",
       "      <td>1</td>\n",
       "      <td>35</td>\n",
       "      <td>1</td>\n",
       "      <td>0</td>\n",
       "      <td>0</td>\n",
       "    </tr>\n",
       "    <tr>\n",
       "      <th>4</th>\n",
       "      <td>0</td>\n",
       "      <td>3</td>\n",
       "      <td>0</td>\n",
       "      <td>35</td>\n",
       "      <td>0</td>\n",
       "      <td>0</td>\n",
       "      <td>0</td>\n",
       "    </tr>\n",
       "    <tr>\n",
       "      <th>5</th>\n",
       "      <td>0</td>\n",
       "      <td>3</td>\n",
       "      <td>0</td>\n",
       "      <td>29</td>\n",
       "      <td>0</td>\n",
       "      <td>0</td>\n",
       "      <td>2</td>\n",
       "    </tr>\n",
       "    <tr>\n",
       "      <th>6</th>\n",
       "      <td>0</td>\n",
       "      <td>1</td>\n",
       "      <td>0</td>\n",
       "      <td>54</td>\n",
       "      <td>0</td>\n",
       "      <td>0</td>\n",
       "      <td>0</td>\n",
       "    </tr>\n",
       "    <tr>\n",
       "      <th>7</th>\n",
       "      <td>0</td>\n",
       "      <td>3</td>\n",
       "      <td>0</td>\n",
       "      <td>2</td>\n",
       "      <td>3</td>\n",
       "      <td>1</td>\n",
       "      <td>0</td>\n",
       "    </tr>\n",
       "    <tr>\n",
       "      <th>8</th>\n",
       "      <td>1</td>\n",
       "      <td>3</td>\n",
       "      <td>1</td>\n",
       "      <td>27</td>\n",
       "      <td>0</td>\n",
       "      <td>2</td>\n",
       "      <td>0</td>\n",
       "    </tr>\n",
       "    <tr>\n",
       "      <th>9</th>\n",
       "      <td>1</td>\n",
       "      <td>2</td>\n",
       "      <td>1</td>\n",
       "      <td>14</td>\n",
       "      <td>1</td>\n",
       "      <td>0</td>\n",
       "      <td>1</td>\n",
       "    </tr>\n",
       "  </tbody>\n",
       "</table>\n",
       "</div>"
      ],
      "text/plain": [
       "   Survived  Pclass  Sex  Age  SibSp  Parch  Embarked\n",
       "0         0       3    0   22      1      0         0\n",
       "1         1       1    1   38      1      0         1\n",
       "2         1       3    1   26      0      0         0\n",
       "3         1       1    1   35      1      0         0\n",
       "4         0       3    0   35      0      0         0\n",
       "5         0       3    0   29      0      0         2\n",
       "6         0       1    0   54      0      0         0\n",
       "7         0       3    0    2      3      1         0\n",
       "8         1       3    1   27      0      2         0\n",
       "9         1       2    1   14      1      0         1"
      ]
     },
     "execution_count": 19,
     "metadata": {},
     "output_type": "execute_result"
    }
   ],
   "source": [
    "titanic_train.head(10)"
   ]
  },
  {
   "cell_type": "markdown",
   "id": "039e4c56",
   "metadata": {},
   "source": [
    "### Category Creation"
   ]
  },
  {
   "cell_type": "code",
   "execution_count": 20,
   "id": "05e5fc6e",
   "metadata": {},
   "outputs": [],
   "source": [
    "# Age\n",
    "\n",
    "titanic = [titanic_train, titanic_test]\n",
    "\n",
    "\n",
    "for dataset in titanic:\n",
    "    dataset['Age'] = dataset['Age'].astype(int)\n",
    "    dataset.loc[ dataset['Age'] <= 12, 'Age'] = 0\n",
    "    dataset.loc[(dataset['Age'] > 12) & (dataset['Age'] <= 19), 'Age'] = 1\n",
    "    dataset.loc[(dataset['Age'] > 19) & (dataset['Age'] <= 25), 'Age'] = 2\n",
    "    dataset.loc[(dataset['Age'] > 25) & (dataset['Age'] <= 29), 'Age'] = 3\n",
    "    dataset.loc[(dataset['Age'] > 29) & (dataset['Age'] <= 35), 'Age'] = 4\n",
    "    dataset.loc[(dataset['Age'] > 35) & (dataset['Age'] <= 44), 'Age'] = 5\n",
    "    dataset.loc[(dataset['Age'] > 44) & (dataset['Age'] <= 58), 'Age'] = 6\n",
    "    dataset.loc[(dataset['Age'] > 58) & (dataset['Age'] <= 66), 'Age'] = 7\n",
    "    dataset.loc[ dataset['Age'] > 66, 'Age'] = 8\n",
    "\n",
    "\n"
   ]
  },
  {
   "cell_type": "code",
   "execution_count": 21,
   "id": "cc302ef6",
   "metadata": {},
   "outputs": [
    {
     "data": {
      "text/plain": [
       "2    170\n",
       "5    149\n",
       "4    147\n",
       "1    127\n",
       "3    114\n",
       "6     87\n",
       "0     69\n",
       "7     21\n",
       "8      7\n",
       "Name: Age, dtype: int64"
      ]
     },
     "execution_count": 21,
     "metadata": {},
     "output_type": "execute_result"
    }
   ],
   "source": [
    "titanic_train['Age'].value_counts()"
   ]
  },
  {
   "cell_type": "code",
   "execution_count": 22,
   "id": "d4514be2",
   "metadata": {},
   "outputs": [
    {
     "data": {
      "text/html": [
       "<div>\n",
       "<style scoped>\n",
       "    .dataframe tbody tr th:only-of-type {\n",
       "        vertical-align: middle;\n",
       "    }\n",
       "\n",
       "    .dataframe tbody tr th {\n",
       "        vertical-align: top;\n",
       "    }\n",
       "\n",
       "    .dataframe thead th {\n",
       "        text-align: right;\n",
       "    }\n",
       "</style>\n",
       "<table border=\"1\" class=\"dataframe\">\n",
       "  <thead>\n",
       "    <tr style=\"text-align: right;\">\n",
       "      <th></th>\n",
       "      <th>Survived</th>\n",
       "      <th>Pclass</th>\n",
       "      <th>Sex</th>\n",
       "      <th>Age</th>\n",
       "      <th>SibSp</th>\n",
       "      <th>Parch</th>\n",
       "      <th>Embarked</th>\n",
       "    </tr>\n",
       "  </thead>\n",
       "  <tbody>\n",
       "    <tr>\n",
       "      <th>0</th>\n",
       "      <td>0</td>\n",
       "      <td>3</td>\n",
       "      <td>0</td>\n",
       "      <td>2</td>\n",
       "      <td>1</td>\n",
       "      <td>0</td>\n",
       "      <td>0</td>\n",
       "    </tr>\n",
       "    <tr>\n",
       "      <th>1</th>\n",
       "      <td>1</td>\n",
       "      <td>1</td>\n",
       "      <td>1</td>\n",
       "      <td>5</td>\n",
       "      <td>1</td>\n",
       "      <td>0</td>\n",
       "      <td>1</td>\n",
       "    </tr>\n",
       "    <tr>\n",
       "      <th>2</th>\n",
       "      <td>1</td>\n",
       "      <td>3</td>\n",
       "      <td>1</td>\n",
       "      <td>3</td>\n",
       "      <td>0</td>\n",
       "      <td>0</td>\n",
       "      <td>0</td>\n",
       "    </tr>\n",
       "    <tr>\n",
       "      <th>3</th>\n",
       "      <td>1</td>\n",
       "      <td>1</td>\n",
       "      <td>1</td>\n",
       "      <td>4</td>\n",
       "      <td>1</td>\n",
       "      <td>0</td>\n",
       "      <td>0</td>\n",
       "    </tr>\n",
       "    <tr>\n",
       "      <th>4</th>\n",
       "      <td>0</td>\n",
       "      <td>3</td>\n",
       "      <td>0</td>\n",
       "      <td>4</td>\n",
       "      <td>0</td>\n",
       "      <td>0</td>\n",
       "      <td>0</td>\n",
       "    </tr>\n",
       "  </tbody>\n",
       "</table>\n",
       "</div>"
      ],
      "text/plain": [
       "   Survived  Pclass  Sex  Age  SibSp  Parch  Embarked\n",
       "0         0       3    0    2      1      0         0\n",
       "1         1       1    1    5      1      0         1\n",
       "2         1       3    1    3      0      0         0\n",
       "3         1       1    1    4      1      0         0\n",
       "4         0       3    0    4      0      0         0"
      ]
     },
     "execution_count": 22,
     "metadata": {},
     "output_type": "execute_result"
    }
   ],
   "source": [
    "titanic_train.head()"
   ]
  },
  {
   "cell_type": "markdown",
   "id": "fa43dc82",
   "metadata": {},
   "source": [
    "### Add New Feature"
   ]
  },
  {
   "cell_type": "code",
   "execution_count": 23,
   "id": "3c2369a1",
   "metadata": {},
   "outputs": [],
   "source": [
    "# Age and Pclass\n",
    "titanic = [titanic_train, titanic_test]\n",
    "\n",
    "for dataset in titanic:\n",
    "    dataset['Age_Pclass']= dataset['Age']* dataset['Pclass']"
   ]
  },
  {
   "cell_type": "markdown",
   "id": "a0ce9908",
   "metadata": {},
   "source": [
    "Let's have a look at the final dataset"
   ]
  },
  {
   "cell_type": "code",
   "execution_count": 24,
   "id": "ee98ff34",
   "metadata": {},
   "outputs": [
    {
     "data": {
      "text/html": [
       "<div>\n",
       "<style scoped>\n",
       "    .dataframe tbody tr th:only-of-type {\n",
       "        vertical-align: middle;\n",
       "    }\n",
       "\n",
       "    .dataframe tbody tr th {\n",
       "        vertical-align: top;\n",
       "    }\n",
       "\n",
       "    .dataframe thead th {\n",
       "        text-align: right;\n",
       "    }\n",
       "</style>\n",
       "<table border=\"1\" class=\"dataframe\">\n",
       "  <thead>\n",
       "    <tr style=\"text-align: right;\">\n",
       "      <th></th>\n",
       "      <th>Survived</th>\n",
       "      <th>Pclass</th>\n",
       "      <th>Sex</th>\n",
       "      <th>Age</th>\n",
       "      <th>SibSp</th>\n",
       "      <th>Parch</th>\n",
       "      <th>Embarked</th>\n",
       "      <th>Age_Pclass</th>\n",
       "    </tr>\n",
       "  </thead>\n",
       "  <tbody>\n",
       "    <tr>\n",
       "      <th>0</th>\n",
       "      <td>0</td>\n",
       "      <td>3</td>\n",
       "      <td>0</td>\n",
       "      <td>2</td>\n",
       "      <td>1</td>\n",
       "      <td>0</td>\n",
       "      <td>0</td>\n",
       "      <td>6</td>\n",
       "    </tr>\n",
       "    <tr>\n",
       "      <th>1</th>\n",
       "      <td>1</td>\n",
       "      <td>1</td>\n",
       "      <td>1</td>\n",
       "      <td>5</td>\n",
       "      <td>1</td>\n",
       "      <td>0</td>\n",
       "      <td>1</td>\n",
       "      <td>5</td>\n",
       "    </tr>\n",
       "    <tr>\n",
       "      <th>2</th>\n",
       "      <td>1</td>\n",
       "      <td>3</td>\n",
       "      <td>1</td>\n",
       "      <td>3</td>\n",
       "      <td>0</td>\n",
       "      <td>0</td>\n",
       "      <td>0</td>\n",
       "      <td>9</td>\n",
       "    </tr>\n",
       "    <tr>\n",
       "      <th>3</th>\n",
       "      <td>1</td>\n",
       "      <td>1</td>\n",
       "      <td>1</td>\n",
       "      <td>4</td>\n",
       "      <td>1</td>\n",
       "      <td>0</td>\n",
       "      <td>0</td>\n",
       "      <td>4</td>\n",
       "    </tr>\n",
       "    <tr>\n",
       "      <th>4</th>\n",
       "      <td>0</td>\n",
       "      <td>3</td>\n",
       "      <td>0</td>\n",
       "      <td>4</td>\n",
       "      <td>0</td>\n",
       "      <td>0</td>\n",
       "      <td>0</td>\n",
       "      <td>12</td>\n",
       "    </tr>\n",
       "  </tbody>\n",
       "</table>\n",
       "</div>"
      ],
      "text/plain": [
       "   Survived  Pclass  Sex  Age  SibSp  Parch  Embarked  Age_Pclass\n",
       "0         0       3    0    2      1      0         0           6\n",
       "1         1       1    1    5      1      0         1           5\n",
       "2         1       3    1    3      0      0         0           9\n",
       "3         1       1    1    4      1      0         0           4\n",
       "4         0       3    0    4      0      0         0          12"
      ]
     },
     "execution_count": 24,
     "metadata": {},
     "output_type": "execute_result"
    }
   ],
   "source": [
    "titanic_train.head()"
   ]
  },
  {
   "cell_type": "markdown",
   "id": "45abd4ba",
   "metadata": {},
   "source": [
    "## Implementing the ML Classifier"
   ]
  },
  {
   "cell_type": "code",
   "execution_count": 25,
   "id": "924498d9",
   "metadata": {},
   "outputs": [],
   "source": [
    "X_train = titanic_train.drop(\"Survived\", axis = 1)\n",
    "Y_train = titanic_train[\"Survived\"]\n",
    "X_test  = titanic_test.drop(\"PassengerId\", axis = 1).copy()"
   ]
  },
  {
   "cell_type": "markdown",
   "id": "92319f61",
   "metadata": {},
   "source": [
    "### Decision Tree Classifier"
   ]
  },
  {
   "cell_type": "code",
   "execution_count": 26,
   "id": "26ea9d66",
   "metadata": {},
   "outputs": [],
   "source": [
    "d_tree = DecisionTreeClassifier() \n",
    "d_tree.fit(X_train, Y_train)\n",
    "\n",
    "Y_pred = d_tree.predict(X_test)\n",
    "acc_1 = round(d_tree.score(X_train, Y_train) * 100, 2)\n"
   ]
  },
  {
   "cell_type": "code",
   "execution_count": 27,
   "id": "86a0743c",
   "metadata": {},
   "outputs": [
    {
     "name": "stdout",
     "output_type": "stream",
     "text": [
      "87.99\n"
     ]
    }
   ],
   "source": [
    "# Accuracy of Decision Tree Classifier Model\n",
    "print(acc_1)"
   ]
  },
  {
   "cell_type": "markdown",
   "id": "97bfecf6",
   "metadata": {},
   "source": [
    "### Support Vector Machine"
   ]
  },
  {
   "cell_type": "code",
   "execution_count": 28,
   "id": "2b467333",
   "metadata": {},
   "outputs": [
    {
     "name": "stderr",
     "output_type": "stream",
     "text": [
      "/opt/anaconda3/lib/python3.9/site-packages/sklearn/svm/_base.py:1206: ConvergenceWarning: Liblinear failed to converge, increase the number of iterations.\n",
      "  warnings.warn(\n"
     ]
    }
   ],
   "source": [
    "Svm = LinearSVC()\n",
    "Svm.fit(X_train, Y_train)\n",
    "\n",
    "Y_pred = Svm.predict(X_test)\n",
    "acc_2 = round(Svm.score(X_train, Y_train) * 100, 2)\n"
   ]
  },
  {
   "cell_type": "code",
   "execution_count": 29,
   "id": "2ac897f6",
   "metadata": {},
   "outputs": [
    {
     "name": "stdout",
     "output_type": "stream",
     "text": [
      "79.8\n"
     ]
    }
   ],
   "source": [
    "# Accuracy of Support Vector Machine Model\n",
    "print(acc_2)"
   ]
  },
  {
   "cell_type": "markdown",
   "id": "7c2a5d6e",
   "metadata": {},
   "source": [
    "We can clearly see that the Decision Tree Classifier (accuracy - 88.1%) perform best compared to Support Vector Machine (accuracy - 78.9%) ."
   ]
  },
  {
   "cell_type": "markdown",
   "id": "8071356e",
   "metadata": {},
   "source": [
    "## Evaluate Performance"
   ]
  },
  {
   "cell_type": "markdown",
   "id": "a9827b6f",
   "metadata": {},
   "source": [
    "### K-Fold Cross-Validation"
   ]
  },
  {
   "cell_type": "code",
   "execution_count": 30,
   "id": "7cd0d493",
   "metadata": {},
   "outputs": [
    {
     "ename": "NameError",
     "evalue": "name 'Dtc' is not defined",
     "output_type": "error",
     "traceback": [
      "\u001b[0;31m---------------------------------------------------------------------------\u001b[0m",
      "\u001b[0;31mNameError\u001b[0m                                 Traceback (most recent call last)",
      "Input \u001b[0;32mIn [30]\u001b[0m, in \u001b[0;36m<cell line: 4>\u001b[0;34m()\u001b[0m\n\u001b[1;32m      1\u001b[0m \u001b[38;5;28;01mfrom\u001b[39;00m \u001b[38;5;21;01msklearn\u001b[39;00m\u001b[38;5;21;01m.\u001b[39;00m\u001b[38;5;21;01mmodel_selection\u001b[39;00m \u001b[38;5;28;01mimport\u001b[39;00m cross_val_score\n\u001b[1;32m      3\u001b[0m dtc \u001b[38;5;241m=\u001b[39m DecisionTreeClassifier()\n\u001b[0;32m----> 4\u001b[0m val_scores1 \u001b[38;5;241m=\u001b[39m cross_val_score(\u001b[43mDtc\u001b[49m, X_train, Y_train, cv \u001b[38;5;241m=\u001b[39m \u001b[38;5;241m10\u001b[39m, scoring \u001b[38;5;241m=\u001b[39m \u001b[38;5;124m\"\u001b[39m\u001b[38;5;124maccuracy\u001b[39m\u001b[38;5;124m\"\u001b[39m)\n\u001b[1;32m      6\u001b[0m svm \u001b[38;5;241m=\u001b[39m LinearSVC()\n\u001b[1;32m      7\u001b[0m val_scores2 \u001b[38;5;241m=\u001b[39m cross_val_score(svm, X_train, Y_train, cv \u001b[38;5;241m=\u001b[39m \u001b[38;5;241m10\u001b[39m, scoring \u001b[38;5;241m=\u001b[39m \u001b[38;5;124m\"\u001b[39m\u001b[38;5;124maccuracy\u001b[39m\u001b[38;5;124m\"\u001b[39m)\n",
      "\u001b[0;31mNameError\u001b[0m: name 'Dtc' is not defined"
     ]
    }
   ],
   "source": [
    "from sklearn.model_selection import cross_val_score\n",
    "\n",
    "dtc = DecisionTreeClassifier()\n",
    "val_scores1 = cross_val_score(Dtc, X_train, Y_train, cv = 10, scoring = \"accuracy\")\n",
    "\n",
    "svm = LinearSVC()\n",
    "val_scores2 = cross_val_score(svm, X_train, Y_train, cv = 10, scoring = \"accuracy\")\n",
    "\n"
   ]
  },
  {
   "cell_type": "markdown",
   "id": "fed79ff5",
   "metadata": {},
   "source": [
    "- validation on Decision Tree Classifier "
   ]
  },
  {
   "cell_type": "code",
   "execution_count": null,
   "id": "ba17084f",
   "metadata": {},
   "outputs": [
    {
     "name": "stdout",
     "output_type": "stream",
     "text": [
      "Scores:\n",
      " [0.74444444 0.78651685 0.7752809  0.82022472 0.83146067 0.80898876\n",
      " 0.80898876 0.75280899 0.80898876 0.7752809 ]\n",
      "Mean:\n",
      " 0.7912983770287141\n",
      "Standard Deviation:\n",
      " 0.027570453275427117\n"
     ]
    }
   ],
   "source": [
    "\n",
    "print(\"Scores:\\n\", val_scores1)\n",
    "\n",
    "print(\"Mean:\\n\", val_scores1.mean())\n",
    "\n",
    "print(\"Standard Deviation:\\n\", val_scores1.std())"
   ]
  },
  {
   "cell_type": "markdown",
   "id": "16caa1c1",
   "metadata": {},
   "source": [
    "- validation on Support Vector Machine"
   ]
  },
  {
   "cell_type": "code",
   "execution_count": null,
   "id": "f137d0d1",
   "metadata": {},
   "outputs": [
    {
     "name": "stdout",
     "output_type": "stream",
     "text": [
      "Scores:\n",
      " [0.81111111 0.76404494 0.75280899 0.83146067 0.7752809  0.7752809\n",
      " 0.7752809  0.74157303 0.80898876 0.78651685]\n",
      "Mean:\n",
      " 0.7822347066167291\n",
      "Standard Deviation:\n",
      " 0.02643168042915592\n"
     ]
    }
   ],
   "source": [
    "print(\"Scores:\\n\", val_scores2)\n",
    "\n",
    "print(\"Mean:\\n\", val_scores2.mean())\n",
    "\n",
    "print(\"Standard Deviation:\\n\", val_scores2.std())"
   ]
  },
  {
   "cell_type": "markdown",
   "id": "ec7f2f82",
   "metadata": {},
   "source": [
    "## Summary\n",
    "\n",
    "I explored datasets with looking at the descriptive summary statistics and then visualize the correlation between 'Survival' and other features in order find out what features are important. This way I removed the features as step of cleaning the dataset. Then dealt with the missing values by replacing with the top value, dropping the feature with huge missing data, and filling with random values computed.\n",
    "\n",
    "Then I moved on to data type conversion, so that all the data has numerical type. next created categories for a feature and created one new feature as well. \n",
    "\n",
    "The dataset is trained using decision tree classifier and support vector machine. decision tree classifier performed very well and evaluate both models using k-fold cross validation choosing 10 folds.\n",
    "The decision tree classifier resulted average accuracy of 79% and standard deviation of 3%. \n",
    "\n",
    "Conclusion with above sd is decision tree classifer accuracy can differ between +3% or -3%."
   ]
  }
 ],
 "metadata": {
  "kernelspec": {
   "display_name": "Python 3 (ipykernel)",
   "language": "python",
   "name": "python3"
  },
  "language_info": {
   "codemirror_mode": {
    "name": "ipython",
    "version": 3
   },
   "file_extension": ".py",
   "mimetype": "text/x-python",
   "name": "python",
   "nbconvert_exporter": "python",
   "pygments_lexer": "ipython3",
   "version": "3.9.12"
  },
  "vscode": {
   "interpreter": {
    "hash": "40d3a090f54c6569ab1632332b64b2c03c39dcf918b08424e98f38b5ae0af88f"
   }
  }
 },
 "nbformat": 4,
 "nbformat_minor": 5
}
